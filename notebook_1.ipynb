{
 "cells": [
  {
   "cell_type": "code",
   "execution_count": 45,
   "metadata": {},
   "outputs": [],
   "source": [
    "import numpy as np\n",
    "import matplotlib.pyplot as plt\n",
    "import pylab as p\n",
    "import time\n",
    "import sys\n",
    "import os\n",
    "import itertools\n",
    "from collections import Counter\n",
    "from astropy.table import Table, Column, MaskedColumn\n",
    "from astropy.io import ascii\n",
    "import pickle"
   ]
  },
  {
   "cell_type": "markdown",
   "metadata": {},
   "source": [
    "## DATA FROM LG_00_06"
   ]
  },
  {
   "cell_type": "code",
   "execution_count": 46,
   "metadata": {},
   "outputs": [
    {
     "name": "stdout",
     "output_type": "stream",
     "text": [
      "/Users/valle/Desktop/CLUESLAB/data_tables\n"
     ]
    }
   ],
   "source": [
    "cd '/Users/valle/Desktop/CLUESLAB/data_tables'"
   ]
  },
  {
   "cell_type": "code",
   "execution_count": 47,
   "metadata": {},
   "outputs": [],
   "source": [
    "dataLG_em7 = np.loadtxt('0006_em7_table_LG')\n",
    "dataM31_em7 = np.loadtxt('0006_em7_table_M31')\n",
    "dataMW_em7 = np.loadtxt('0006_em7_table_MW')\n",
    "\n",
    "dataLG_em8 = np.loadtxt('0006_em8_table_LG')\n",
    "dataM31_em8 = np.loadtxt('0006_em8_table_M31')\n",
    "dataMW_em8 = np.loadtxt('0006_em8_table_MW')\n",
    "\n",
    "dataLG_LCDM = np.loadtxt('0006_LCDM_table_LG')\n",
    "dataM31_LCDM  = np.loadtxt('0006_LCDM_table_M31')\n",
    "dataMW_LCDM = np.loadtxt('0006_LCDM_table_MW')"
   ]
  },
  {
   "cell_type": "code",
   "execution_count": 64,
   "metadata": {},
   "outputs": [
    {
     "name": "stdout",
     "output_type": "stream",
     "text": [
      "/Users/valle/Desktop/CLUESLAB\n"
     ]
    }
   ],
   "source": [
    "cd '/Users/valle/Desktop/CLUESLAB'"
   ]
  },
  {
   "cell_type": "markdown",
   "metadata": {},
   "source": [
    "## DATA FROM LG_00_06 HIGH DEFINITION"
   ]
  },
  {
   "cell_type": "code",
   "execution_count": 48,
   "metadata": {},
   "outputs": [],
   "source": [
    "#dataLG_em7 = np.loadtxt('0006_high_em7_table_LG')\n",
    "#dataM31_em7 = np.loadtxt('0006_high_em7_table_M31')\n",
    "#dataMW_em7 = np.loadtxt('0006_high_em7_table_MW')\n",
    "\n",
    "#dataLG_em8 = np.loadtxt('0006_high_em8_table_LG')\n",
    "#dataM31_em8 = np.loadtxt('0006_high_em8_table_M31')\n",
    "#dataMW_em8 = np.loadtxt('0006_high_em8_table_MW')\n",
    "\n",
    "#dataLG_LCDM = np.loadtxt('0006_high_LCDM_table_LG')\n",
    "#dataM31_LCDM  = np.loadtxt('0006_high_LCDM_table_M31')\n",
    "#dataMW_LCDM = np.loadtxt('0006_high_LCDM_table_MW')"
   ]
  },
  {
   "cell_type": "markdown",
   "metadata": {},
   "source": [
    "## DATA FROM LG_24_13"
   ]
  },
  {
   "cell_type": "code",
   "execution_count": 49,
   "metadata": {},
   "outputs": [],
   "source": [
    "#dataLG_em7 = np.loadtxt('2413_em7_table_LG')\n",
    "#dataM31_em7 = np.loadtxt('2413_em7_table_M31')\n",
    "#dataMW_em7 = np.loadtxt('2413_em7_table_MW')\n",
    "\n",
    "#dataLG_em8 = np.loadtxt('2413_em8_table_LG')\n",
    "#dataM31_em8 = np.loadtxt('2413_em8_table_M31')\n",
    "#dataMW_em8 = np.loadtxt('2413_em8_table_MW')\n",
    "\n",
    "#dataLG_LCDM = np.loadtxt('2413_LCDM_table_LG')\n",
    "#dataM31_LCDM  = np.loadtxt('2413_LCDM_table_M31')\n",
    "#dataMW_LCDM = np.loadtxt('2413_vLCDM_table_MW')\n"
   ]
  },
  {
   "cell_type": "markdown",
   "metadata": {},
   "source": [
    "PARAMETERS"
   ]
  },
  {
   "cell_type": "code",
   "execution_count": 50,
   "metadata": {},
   "outputs": [],
   "source": [
    "#Minimum number of dark matter particles required in the halo \n",
    "#(min_n_dm = n_particles - n_gas - n_stars)\n",
    "MIN_N_DM = 10\n",
    "#Minimum number of stars in the halo for it to be considered a luminous galaxy\n",
    "MIN_N_STARS = 1\n",
    "#hubble constant\n",
    "h=0.677\n",
    "\n",
    "a = 3.0\n",
    "b = 2.5\n",
    "c = 26"
   ]
  },
  {
   "cell_type": "markdown",
   "metadata": {},
   "source": [
    "FUNCTIONS"
   ]
  },
  {
   "cell_type": "code",
   "execution_count": 51,
   "metadata": {},
   "outputs": [],
   "source": [
    "def cleanDataSet(dataset):\n",
    "    'Input: dataset'\n",
    "    'Return: cleaned dataset'\n",
    "    'FUNCTION: Cleans the dataset selected from the halos that are fake i.e. not fullfill MIN_N_DM'\n",
    "    dirty_indexes = []\n",
    "    for idx, i in enumerate(dataset):\n",
    "        if (dataset[idx][4] - dataset[idx][43] - dataset[idx][63]) < MIN_N_DM:\n",
    "            dirty_indexes.append(idx)\n",
    "    print('number of halos removed in', len(dirty_indexes))\n",
    "    dataset = np.delete(dataset, (dirty_indexes), axis=0)\n",
    "    return dataset"
   ]
  },
  {
   "cell_type": "code",
   "execution_count": 52,
   "metadata": {},
   "outputs": [],
   "source": [
    "def selectSatellites(dataset):\n",
    "    'Input: dataset'\n",
    "    'Returns: [list] of the halos that are satellites'\n",
    "    'FUNCTION: creates new list of the halos of the dataset that contain at least MIN_N_STARS' \n",
    "    satellites_list = []\n",
    "    for idx, i in enumerate(dataset):\n",
    "        if numStars(idx, dataset) > MIN_N_STARS:\n",
    "            satellites_list.append(dataset[idx])\n",
    "    return satellites_list"
   ]
  },
  {
   "cell_type": "code",
   "execution_count": 53,
   "metadata": {},
   "outputs": [],
   "source": [
    "def getMasses(dataset):\n",
    "    stellar_masses = []\n",
    "    halo_masses = []\n",
    "    for idx, i in enumerate(dataset):\n",
    "        if numStars(idx, dataset) > MIN_N_STARS:\n",
    "            stellarmass = dataset[idx][86]/h\n",
    "            halomass = dataset[idx][3]/h\n",
    "            stellar_masses.append(stellarmass)\n",
    "            halo_masses.append(halomass)\n",
    "    return stellar_masses, halo_masses"
   ]
  },
  {
   "cell_type": "code",
   "execution_count": 54,
   "metadata": {},
   "outputs": [],
   "source": [
    "def numStars(halo_idx, dataset):\n",
    "    n_stars = dataset[halo_idx][63]\n",
    "    return int(n_stars)"
   ]
  },
  {
   "cell_type": "code",
   "execution_count": 55,
   "metadata": {},
   "outputs": [],
   "source": [
    "def createHistogram(dataset):\n",
    "    counter_dataset = Counter(dataset)\n",
    "    SORTEDDATASET = sorted(counter_dataset.items())\n",
    "    SORTEDDATASET.reverse()\n",
    "    i_counts = 0\n",
    "    total_cumulative_list = []\n",
    "    element_cumulative_list = [i[0] for i in SORTEDDATASET]\n",
    "    for item in SORTEDDATASET:\n",
    "        i_counts = i_counts + item[1]\n",
    "        total_cumulative_list.append(i_counts)\n",
    "        \n",
    "    return element_cumulative_list, total_cumulative_list"
   ]
  },
  {
   "cell_type": "markdown",
   "metadata": {},
   "source": [
    "CLEANING OF THE DATA"
   ]
  },
  {
   "cell_type": "code",
   "execution_count": 56,
   "metadata": {},
   "outputs": [
    {
     "name": "stdout",
     "output_type": "stream",
     "text": [
      "number of halos removed in 22\n",
      "number of halos removed in 9\n",
      "number of halos removed in 10\n",
      "number of halos removed in 8\n",
      "number of halos removed in 3\n",
      "number of halos removed in 3\n",
      "number of halos removed in 22\n",
      "number of halos removed in 8\n",
      "number of halos removed in 11\n"
     ]
    }
   ],
   "source": [
    "dataLG_em7 = cleanDataSet(dataLG_em7)\n",
    "dataM31_em7 = cleanDataSet(dataM31_em7)\n",
    "dataMW_em7 = cleanDataSet(dataMW_em7)\n",
    "dataLG_em8 = cleanDataSet(dataLG_em8)\n",
    "dataM31_em8 = cleanDataSet(dataM31_em8)\n",
    "dataMW_em8 = cleanDataSet(dataMW_em8)\n",
    "dataLG_LCDM = cleanDataSet(dataLG_LCDM)\n",
    "dataM31_LCDM = cleanDataSet(dataM31_LCDM)\n",
    "dataMW_LCDM = cleanDataSet(dataMW_LCDM)"
   ]
  },
  {
   "cell_type": "markdown",
   "metadata": {},
   "source": [
    "SELECTING SATELLITES"
   ]
  },
  {
   "cell_type": "code",
   "execution_count": 57,
   "metadata": {},
   "outputs": [],
   "source": [
    "satellites_LG_em7 = selectSatellites(dataLG_em7)\n",
    "satellites_M31_em7 = selectSatellites(dataM31_em7)\n",
    "satellites_MW_em7 = selectSatellites(dataMW_em7)\n",
    "\n",
    "satellites_LG_em8 = selectSatellites(dataLG_em8)\n",
    "satellites_M31_em8 = selectSatellites(dataM31_em8)\n",
    "satellites_MW_em8 = selectSatellites(dataMW_em8)\n",
    "\n",
    "satellites_LG_LCDM = selectSatellites(dataLG_LCDM)\n",
    "satellites_M31_LCDM = selectSatellites(dataM31_LCDM)\n",
    "satellites_MW_LCDM = selectSatellites(dataMW_LCDM)"
   ]
  },
  {
   "cell_type": "code",
   "execution_count": 58,
   "metadata": {},
   "outputs": [],
   "source": [
    "masses_halos_LG_em7 = [i[3]/h for i in dataLG_em7]\n",
    "masses_halos_M31_em7 = [i[3]/h for i in dataM31_em7]\n",
    "masses_halos_MW_em7 = [i[3]/h for i in dataMW_em7]\n",
    "\n",
    "masses_halos_LG_em8 = [i[3]/h for i in dataLG_em8]\n",
    "masses_halos_M31_em8 = [i[3]/h for i in dataM31_em8]\n",
    "masses_halos_MW_em8 = [i[3]/h for i in dataMW_em8]\n",
    "\n",
    "masses_halos_LG_LCDM = [i[3]/h for i in dataLG_LCDM]\n",
    "masses_halos_M31_LCDM = [i[3]/h for i in dataM31_LCDM]\n",
    "masses_halos_MW_LCDM = [i[3]/h for i in dataMW_LCDM]"
   ]
  },
  {
   "cell_type": "code",
   "execution_count": 71,
   "metadata": {},
   "outputs": [],
   "source": [
    "masses_satellites_baryons_LG_em7, masses_satellites_darkmatter_LG_em7 = getMasses(dataLG_em7)\n",
    "masses_satellites_baryons_M31_em7, masses_satellites_darkmatter_M31_em7 = getMasses(dataM31_em7)\n",
    "masses_satellites_baryons_MW_em7, masses_satellites_darkmatter_MW_em7 = getMasses(dataMW_em7)\n",
    "\n",
    "masses_satellites_baryons_LG_em8, masses_satellites_darkmatter_LG_em8 = getMasses(dataLG_em8)\n",
    "masses_satellites_baryons_M31_em8, masses_satellites_darkmatter_M31_em8 = getMasses(dataM31_em8)\n",
    "masses_satellites_baryons_MW_em8, masses_satellites_darkmatter_MW_em8 = getMasses(dataMW_em8)\n",
    "\n",
    "masses_satellites_baryons_LG_LCDM, masses_satellites_darkmatter_LG_LCDM = getMasses(dataLG_LCDM)\n",
    "masses_satellites_baryons_M31_LCDM, masses_satellites_darkmatter_M31_LCDM = getMasses(dataM31_LCDM)\n",
    "masses_satellites_baryons_MW_LCDM, masses_satellites_darkmatter_MW_LCDM = getMasses(dataMW_LCDM)"
   ]
  },
  {
   "cell_type": "markdown",
   "metadata": {},
   "source": [
    "## FIGURES"
   ]
  },
  {
   "cell_type": "code",
   "execution_count": 72,
   "metadata": {},
   "outputs": [
    {
     "name": "stdout",
     "output_type": "stream",
     "text": [
      "/Users/valle/Desktop/CLUESLAB/figures\n"
     ]
    }
   ],
   "source": [
    "cd '/Users/valle/Desktop/CLUESLAB/figures'"
   ]
  },
  {
   "cell_type": "code",
   "execution_count": 73,
   "metadata": {},
   "outputs": [
    {
     "data": {
      "text/plain": [
       "<matplotlib.legend.Legend at 0x11c2fd400>"
      ]
     },
     "execution_count": 73,
     "metadata": {},
     "output_type": "execute_result"
    },
    {
     "data": {
      "image/png": "[encoded data removed]",
      "text/plain": [
       "<Figure size 432x288 with 1 Axes>"
      ]
     },
     "metadata": {
      "needs_background": "light"
     },
     "output_type": "display_data"
    }
   ],
   "source": [
    "plt.loglog(masses_satellites_baryons_LG_em7, masses_satellites_darkmatter_LG_em7, 'bo', label='Halos $\\sigma_{DM-\\gamma} \\sim 10^{-7}$', linewidth=a)\n",
    "plt.loglog(masses_satellites_baryons_LG_em8, masses_satellites_darkmatter_LG_em8, 'go', label='Halos $\\sigma_{DM-\\gamma} \\sim 10^{-8}$', linewidth=a)\n",
    "plt.loglog(masses_satellites_baryons_LG_LCDM, masses_satellites_darkmatter_LG_LCDM, 'ko', label='Halos LCDM', linewidth=a)\n",
    "\n",
    "plt.rc('xtick', color='k', labelsize='xx-large')\n",
    "plt.rc('ytick', color='k', labelsize='xx-large')\n",
    "plt.xticks(size=25)\n",
    "plt.yticks(size=25)\n",
    "plt.xlabel('$M_{stellar}$ [$M_{\\odot}$]', fontsize=c)\n",
    "plt.ylabel('$M_{halo}$ [$M_{\\odot}$]', fontsize=c)\n",
    "plt.legend(fontsize=10)"
   ]
  },
  {
   "cell_type": "code",
   "execution_count": 74,
   "metadata": {},
   "outputs": [],
   "source": [
    "xhist_masses_halos_LG_em7, yhist_masses_halos_LG_em7 = createHistogram(masses_halos_LG_em7)\n",
    "xhist_masses_halos_LG_em8, yhist_masses_halos_LG_em8 = createHistogram(masses_halos_LG_em8)\n",
    "xhist_masses_halos_LG_LCDM, yhist_masses_halos_LG_LCDM = createHistogram(masses_halos_LG_LCDM)\n",
    "\n",
    "xhist_masses_satellites_baryons_LG_em7, yhist_masses_satellites_baryons_LG_em7 = createHistogram(masses_satellites_baryons_LG_em7)\n",
    "xhist_masses_satellites_baryons_LG_em8, yhist_masses_satellites_baryons_LG_em8 = createHistogram(masses_satellites_baryons_LG_em8)\n",
    "xhist_masses_satellites_baryons_LG_LCDM, yhist_masses_satellites_baryons_LG_LCDM = createHistogram(masses_satellites_baryons_LG_LCDM)"
   ]
  },
  {
   "cell_type": "code",
   "execution_count": 75,
   "metadata": {},
   "outputs": [
    {
     "data": {
      "text/plain": [
       "<matplotlib.legend.Legend at 0x11f0f60f0>"
      ]
     },
     "execution_count": 75,
     "metadata": {},
     "output_type": "execute_result"
    },
    {
     "data": {
      "image/png": "[encoded data removed]",
      "text/plain": [
       "<Figure size 432x288 with 1 Axes>"
      ]
     },
     "metadata": {
      "needs_background": "light"
     },
     "output_type": "display_data"
    }
   ],
   "source": [
    "plt.loglog(xhist_masses_halos_LG_em7, yhist_masses_halos_LG_em7, 'b-', label='$\\sigma_{DM-\\gamma} \\sim 10^{-7}$', linewidth=a)\n",
    "plt.loglog(xhist_masses_halos_LG_em8, yhist_masses_halos_LG_em8, 'g-', label='$\\sigma_{DM-\\gamma} \\sim 10^{-8}$', linewidth=a)\n",
    "plt.loglog(xhist_masses_halos_LG_LCDM, yhist_masses_halos_LG_LCDM, 'k-', label='LCDM', linewidth=a)\n",
    "\n",
    "plt.rc('xtick', color='k', labelsize='xx-large')\n",
    "plt.rc('ytick', color='k', labelsize='xx-large')\n",
    "plt.xticks(size=25)\n",
    "plt.yticks(size=25)\n",
    "plt.xlabel('$M_{halo}$ [$M_{\\odot}$]', fontsize=c)\n",
    "plt.ylabel('$N$', fontsize=c)\n",
    "plt.legend(fontsize=10)\n",
    "fig.savefig('hist_masses_halos.jpeg', dpi=500, optimize=True, bbox_inches='tight')"
   ]
  },
  {
   "cell_type": "code",
   "execution_count": 80,
   "metadata": {},
   "outputs": [
    {
     "data": {
      "image/png": "[encoded data removed]",
      "text/plain": [
       "<Figure size 432x288 with 1 Axes>"
      ]
     },
     "metadata": {
      "needs_background": "light"
     },
     "output_type": "display_data"
    }
   ],
   "source": [
    "fig = plt.figure()\n",
    "plt.semilogx(xhist_masses_satellites_baryons_LG_em7, yhist_masses_satellites_baryons_LG_em7, 'b-', label='Halos $\\sigma_{DM-\\gamma} \\sim 10^{-7}$', linewidth=a)\n",
    "plt.semilogx(xhist_masses_satellites_baryons_LG_em8, yhist_masses_satellites_baryons_LG_em8, 'g-', label='Halos $\\sigma_{DM-\\gamma} \\sim 10^{-8}$', linewidth=a)\n",
    "plt.semilogx(xhist_masses_satellites_baryons_LG_LCDM, yhist_masses_satellites_baryons_LG_LCDM, 'k-', label='Halos LCDM', linewidth=a)\n",
    "plt.rc('xtick', color='k', labelsize='xx-large')\n",
    "plt.rc('ytick', color='k', labelsize='xx-large')\n",
    "plt.xticks(size=25)\n",
    "plt.yticks(size=25)\n",
    "plt.xlabel('$M_{stellar}$ [$M_{\\odot}$]', fontsize=c)\n",
    "plt.ylabel('$N$', fontsize=c)\n",
    "plt.legend(fontsize=10)\n",
    "fig.savefig('hist_masses_satellites_baryons.jpeg', dpi=500, optimize=True, bbox_inches='tight')"
   ]
  },
  {
   "cell_type": "code",
   "execution_count": null,
   "metadata": {},
   "outputs": [],
   "source": []
  },
  {
   "cell_type": "code",
   "execution_count": null,
   "metadata": {},
   "outputs": [],
   "source": []
  }
 ],
 "metadata": {
  "kernelspec": {
   "display_name": "Python 3",
   "language": "python",
   "name": "python3"
  },
  "language_info": {
   "codemirror_mode": {
    "name": "ipython",
    "version": 3
   },
   "file_extension": ".py",
   "mimetype": "text/x-python",
   "name": "python",
   "nbconvert_exporter": "python",
   "pygments_lexer": "ipython3",
   "version": "3.7.3"
  }
 },
 "nbformat": 4,
 "nbformat_minor": 2
}
